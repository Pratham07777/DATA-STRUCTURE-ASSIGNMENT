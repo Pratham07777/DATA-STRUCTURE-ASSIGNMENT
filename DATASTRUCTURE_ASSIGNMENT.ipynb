{
  "nbformat": 4,
  "nbformat_minor": 0,
  "metadata": {
    "colab": {
      "provenance": []
    },
    "kernelspec": {
      "name": "python3",
      "display_name": "Python 3"
    },
    "language_info": {
      "name": "python"
    }
  },
  "cells": [
    {
      "cell_type": "markdown",
      "source": [
        "# THEORY QUESTION'S ANSWERS"
      ],
      "metadata": {
        "id": "JpFyilh08Jmo"
      }
    },
    {
      "cell_type": "markdown",
      "source": [
        "Q1: What are data structures, and why are they important?\n",
        "-  Data structures are organized ways of storing and managing data (e.g., lists, stacks, trees). They are important because they allow efficient access, modification, and storage of data. Choosing the right data structure improves performance in solving computational problems.\n",
        "\n",
        "Q2: Explain the difference between mutable and immutable data types with examples.\n",
        "-  Mutable data types can be changed after creation (e.g., lists: [1, 2, 3] → [1, 4, 3]). Immutable data types cannot be changed once created (e.g., strings: \"cat\" cannot be altered, only replaced). This distinction affects memory management and program behavior.\n",
        "\n",
        "Q3: What are the main differences between lists and tuples in Python?\n",
        "-  Lists are mutable, meaning their elements can be modified. Tuples are immutable, making them faster and safer for fixed data. Lists use square brackets [], while tuples use parentheses ().\n",
        "\n",
        "Q4: Describe how dictionaries store data.\n",
        "-  Dictionaries store data as key-value pairs. Each key is unique and maps directly to a value. Internally, Python uses hash tables to allow fast lookups of values by their keys.\n",
        "\n",
        "Q5: Why might you use a set instead of a list in Python?\n",
        "-  A set is used when you want unique elements only. Unlike lists, sets automatically remove duplicates and allow faster membership checking. They are ideal for operations like unions, intersections, and differences.\n",
        "\n",
        "Q6: What is a string in Python, and how is it different from a list?\n",
        "-  A string is an immutable sequence of characters, while a list is a mutable sequence of items. You can change elements in a list but not in a string. Strings also support text-specific methods like .upper() or .split().\n",
        "\n",
        "Q7: How do tuples ensure data integrity in Python?\n",
        "-  Since tuples are immutable, their contents cannot be changed after creation. This prevents accidental modification of critical data. They are often used to store constant values or as dictionary keys.\n",
        "\n",
        "Q8: What is a hash table, and how does it relate to dictionaries in Python?\n",
        "- A hash table stores data in an array using a hash function to compute the index. Python dictionaries are built on hash tables, enabling fast lookups, insertions, and deletions using keys.\n",
        "\n",
        "Q9: Can lists contain different data types in Python?\n",
        "-  Yes, lists in Python can hold elements of mixed types. For example: [1, \"apple\", 3.5, True] is valid. This flexibility makes lists very versatile for general-purpose storage.\n",
        "\n",
        "Q10: Explain why strings are immutable in Python.\n",
        "-  Strings are immutable to improve performance, security, and memory efficiency. Since they are frequently used (e.g., as keys in dictionaries), immutability ensures they remain consistent and hashable.\n",
        "\n",
        "Q11: What advantages do dictionaries offer over lists for certain tasks?\n",
        "-  Dictionaries allow fast key-based lookups, while lists require searching by index or scanning elements. This makes dictionaries more efficient when working with labeled data or when quick access is required.\n",
        "\n",
        "Q12: Describe a scenario where using a tuple would be preferable over a list.\n",
        "-  Tuples are preferable when storing fixed, unchangeable data like coordinates (x, y) or dates (year, month, day). They are also useful as dictionary keys since lists cannot be keys.\n",
        "\n",
        "Q13: How do sets handle duplicate values in Python?\n",
        "-  Sets automatically remove duplicates. For example, {1, 2, 2, 3} becomes {1, 2, 3}. This ensures all elements are unique without requiring manual filtering.\n",
        "\n",
        "Q14: How does the “in” keyword work differently for lists and dictionaries?\n",
        "-  For lists, \"in\" checks if a value exists among the elements. For dictionaries, \"in\" checks if a key exists (not the value). Example: \"a\" in {\"a\":1} returns True.\n",
        "\n",
        "Q15: Can you modify the elements of a tuple? Explain why or why not.\n",
        "-  No, tuples are immutable, so their elements cannot be modified after creation. This ensures data stability and makes them suitable for fixed records.\n",
        "\n",
        "Q16: What is a nested dictionary, and give an example of its use case.\n",
        "-  A nested dictionary is a dictionary inside another dictionary. Example:\n",
        "\n",
        "students = {\"Alice\": {\"age\": 20, \"grade\": \"A\"}}\n",
        "\n",
        "\n",
        "They are useful for storing structured data like student records or JSON-like objects.\n",
        "\n",
        "Q17: Describe the time complexity of accessing elements in a dictionary.\n",
        "-  Accessing a value by its key in a dictionary has an average O(1) time complexity due to hash table implementation. In worst-case collisions, it may degrade to O(n).\n",
        "\n",
        "Q18: In what situations are lists preferred over dictionaries?\n",
        "-  Lists are preferred when order matters, when data is simple and sequential, or when indexing by position is needed. For example, managing a to-do list or storing ordered numbers.\n",
        "\n",
        "Q19: Why are dictionaries considered unordered, and how does that affect data retrieval?\n",
        "-  Dictionaries don’t store items in a fixed order by default (though since Python 3.7, they preserve insertion order). Retrieval is based on keys, not sequence, so element order isn’t guaranteed to matter.\n",
        "\n",
        "Q20: Explain the difference between a list and a dictionary in terms of data retrieval.\n",
        "-  Lists retrieve data by index (position), e.g., mylist[2]. Dictionaries retrieve data by key, e.g., mydict[\"name\"]. This makes dictionaries more suitable for labeled data."
      ],
      "metadata": {
        "id": "Ex_hkhAn8Pr8"
      }
    },
    {
      "cell_type": "markdown",
      "source": [
        "# PRACTICAL ANSWERS"
      ],
      "metadata": {
        "id": "Cid4IAqx8xxk"
      }
    },
    {
      "cell_type": "code",
      "source": [
        "# Q1: Write a code to create a string with your name and print it\n",
        "name = \"YourName\"\n",
        "print(name)\n"
      ],
      "metadata": {
        "colab": {
          "base_uri": "https://localhost:8080/"
        },
        "id": "_MbKGPGt83b8",
        "outputId": "2f935dfe-4ee4-4b94-834d-455e5c6476a6"
      },
      "execution_count": 1,
      "outputs": [
        {
          "output_type": "stream",
          "name": "stdout",
          "text": [
            "YourName\n"
          ]
        }
      ]
    },
    {
      "cell_type": "code",
      "source": [
        "# Q2: Write a code to find the length of the string \"Hello World\"\n",
        "text = \"Hello World\"\n",
        "print(len(text))\n"
      ],
      "metadata": {
        "colab": {
          "base_uri": "https://localhost:8080/"
        },
        "id": "l1TBWyNz83Za",
        "outputId": "0c92aa11-bdcf-4bb4-aa47-0b35419c2925"
      },
      "execution_count": 2,
      "outputs": [
        {
          "output_type": "stream",
          "name": "stdout",
          "text": [
            "11\n"
          ]
        }
      ]
    },
    {
      "cell_type": "code",
      "source": [
        "# Q3: Write a code to slice the first 3 characters from the string \"Python Programming\"\n",
        "s = \"Python Programming\"\n",
        "print(s[:3])\n"
      ],
      "metadata": {
        "colab": {
          "base_uri": "https://localhost:8080/"
        },
        "id": "SRDOcK4M83Wq",
        "outputId": "84c224de-159b-4d11-9c74-a114a9d5e603"
      },
      "execution_count": 3,
      "outputs": [
        {
          "output_type": "stream",
          "name": "stdout",
          "text": [
            "Pyt\n"
          ]
        }
      ]
    },
    {
      "cell_type": "code",
      "source": [
        "# Q4: Write a code to convert the string \"hello\" to uppercase\n",
        "word = \"hello\"\n",
        "print(word.upper())\n"
      ],
      "metadata": {
        "colab": {
          "base_uri": "https://localhost:8080/"
        },
        "id": "LLdbs6-E83UL",
        "outputId": "1e5a5d27-f629-4927-e029-b4df07685ef1"
      },
      "execution_count": 4,
      "outputs": [
        {
          "output_type": "stream",
          "name": "stdout",
          "text": [
            "HELLO\n"
          ]
        }
      ]
    },
    {
      "cell_type": "code",
      "source": [
        "# Q5: Write a code to replace the word \"apple\" with \"orange\" in the string \"I like apple\"\n",
        "sentence = \"I like apple\"\n",
        "print(sentence.replace(\"apple\", \"orange\"))\n"
      ],
      "metadata": {
        "colab": {
          "base_uri": "https://localhost:8080/"
        },
        "id": "sXBgxCE483RO",
        "outputId": "86c2049d-20c6-4814-aa19-95e34be74868"
      },
      "execution_count": 5,
      "outputs": [
        {
          "output_type": "stream",
          "name": "stdout",
          "text": [
            "I like orange\n"
          ]
        }
      ]
    },
    {
      "cell_type": "code",
      "source": [
        "# Q6: Write a code to create a list with numbers 1 to 5 and print it\n",
        "numbers = [1, 2, 3, 4, 5]\n",
        "print(numbers)\n"
      ],
      "metadata": {
        "colab": {
          "base_uri": "https://localhost:8080/"
        },
        "id": "Z1zgV87083Oi",
        "outputId": "32a9b63a-65f4-4b82-ef18-f0c28880ce6a"
      },
      "execution_count": 6,
      "outputs": [
        {
          "output_type": "stream",
          "name": "stdout",
          "text": [
            "[1, 2, 3, 4, 5]\n"
          ]
        }
      ]
    },
    {
      "cell_type": "code",
      "source": [
        "# Q7: Write a code to append the number 10 to the list [1, 2, 3, 4]\n",
        "lst = [1, 2, 3, 4]\n",
        "lst.append(10)\n",
        "print(lst)\n"
      ],
      "metadata": {
        "colab": {
          "base_uri": "https://localhost:8080/"
        },
        "id": "qDtnf0TR83L6",
        "outputId": "87e87b77-6482-4bb9-ca1e-9a0582a9e5b2"
      },
      "execution_count": 7,
      "outputs": [
        {
          "output_type": "stream",
          "name": "stdout",
          "text": [
            "[1, 2, 3, 4, 10]\n"
          ]
        }
      ]
    },
    {
      "cell_type": "code",
      "source": [
        "# Q8: Write a code to remove the number 3 from the list [1, 2, 3, 4, 5]\n",
        "lst = [1, 2, 3, 4, 5]\n",
        "lst.remove(3)\n",
        "print(lst)\n"
      ],
      "metadata": {
        "colab": {
          "base_uri": "https://localhost:8080/"
        },
        "id": "qmoUXhmT83Jq",
        "outputId": "3c7b863f-9fcb-4807-9a43-94e52e797f42"
      },
      "execution_count": 8,
      "outputs": [
        {
          "output_type": "stream",
          "name": "stdout",
          "text": [
            "[1, 2, 4, 5]\n"
          ]
        }
      ]
    },
    {
      "cell_type": "code",
      "source": [
        "# Q9: Write a code to access the second element in the list ['a', 'b', 'c', 'd']\n",
        "letters = ['a', 'b', 'c', 'd']\n",
        "print(letters[1])\n"
      ],
      "metadata": {
        "colab": {
          "base_uri": "https://localhost:8080/"
        },
        "id": "UdyllI3083G0",
        "outputId": "2a593a77-8fb1-4478-bd3b-d70fffd3715b"
      },
      "execution_count": 9,
      "outputs": [
        {
          "output_type": "stream",
          "name": "stdout",
          "text": [
            "b\n"
          ]
        }
      ]
    },
    {
      "cell_type": "code",
      "source": [
        "# Q10: Write a code to reverse the list [10, 20, 30, 40, 50]\n",
        "nums = [10, 20, 30, 40, 50]\n",
        "nums.reverse()\n",
        "print(nums)\n"
      ],
      "metadata": {
        "colab": {
          "base_uri": "https://localhost:8080/"
        },
        "id": "CGFs8GV783EQ",
        "outputId": "656ddc95-1897-44d7-9ec8-f39eb283c0aa"
      },
      "execution_count": 10,
      "outputs": [
        {
          "output_type": "stream",
          "name": "stdout",
          "text": [
            "[50, 40, 30, 20, 10]\n"
          ]
        }
      ]
    },
    {
      "cell_type": "code",
      "source": [
        "# Q11: Write a code to create a tuple with the elements 100, 200, 300 and print it\n",
        "t = (100, 200, 300)\n",
        "print(t)\n"
      ],
      "metadata": {
        "colab": {
          "base_uri": "https://localhost:8080/"
        },
        "id": "XbzJnTBN83Bd",
        "outputId": "f41da2ce-1b9e-48f7-94e8-c2964b998aa3"
      },
      "execution_count": 11,
      "outputs": [
        {
          "output_type": "stream",
          "name": "stdout",
          "text": [
            "(100, 200, 300)\n"
          ]
        }
      ]
    },
    {
      "cell_type": "code",
      "source": [
        "# Q12: Write a code to access the second-to-last element of the tuple ('red', 'green', 'blue', 'yellow')\n",
        "colors = ('red', 'green', 'blue', 'yellow')\n",
        "print(colors[-2])\n"
      ],
      "metadata": {
        "colab": {
          "base_uri": "https://localhost:8080/"
        },
        "id": "pq1u8mtM82-3",
        "outputId": "78949217-7f22-448d-baed-5cee84c6c127"
      },
      "execution_count": 12,
      "outputs": [
        {
          "output_type": "stream",
          "name": "stdout",
          "text": [
            "blue\n"
          ]
        }
      ]
    },
    {
      "cell_type": "code",
      "source": [
        "# Q13: Write a code to find the minimum number in the tuple (10, 20, 5, 15)\n",
        "t = (10, 20, 5, 15)\n",
        "print(min(t))\n"
      ],
      "metadata": {
        "colab": {
          "base_uri": "https://localhost:8080/"
        },
        "id": "7qtoG5FU828J",
        "outputId": "a75bd96f-1a00-4d7d-c259-ba60a75e7919"
      },
      "execution_count": 13,
      "outputs": [
        {
          "output_type": "stream",
          "name": "stdout",
          "text": [
            "5\n"
          ]
        }
      ]
    },
    {
      "cell_type": "code",
      "source": [
        "# Q14: Write a code to find the index of the element \"cat\" in the tuple ('dog', 'cat', 'rabbit')\n",
        "animals = ('dog', 'cat', 'rabbit')\n",
        "print(animals.index(\"cat\"))\n"
      ],
      "metadata": {
        "colab": {
          "base_uri": "https://localhost:8080/"
        },
        "id": "8_Fxiw85825r",
        "outputId": "9adc3020-4f3b-4c80-a4db-8f7225c6526d"
      },
      "execution_count": 14,
      "outputs": [
        {
          "output_type": "stream",
          "name": "stdout",
          "text": [
            "1\n"
          ]
        }
      ]
    },
    {
      "cell_type": "code",
      "source": [
        "# Q15: Write a code to create a tuple containing three different fruits and check if \"kiwi\" is in it\n",
        "fruits = (\"apple\", \"banana\", \"mango\")\n",
        "print(\"kiwi\" in fruits)\n"
      ],
      "metadata": {
        "colab": {
          "base_uri": "https://localhost:8080/"
        },
        "id": "vkrIqamK823B",
        "outputId": "fd61c062-e83b-40ae-dd3c-8d3622408241"
      },
      "execution_count": 15,
      "outputs": [
        {
          "output_type": "stream",
          "name": "stdout",
          "text": [
            "False\n"
          ]
        }
      ]
    },
    {
      "cell_type": "code",
      "source": [
        "# Q16: Write a code to create a set with the elements 'a', 'b', 'c' and print it\n",
        "s = {'a', 'b', 'c'}\n",
        "print(s)\n"
      ],
      "metadata": {
        "colab": {
          "base_uri": "https://localhost:8080/"
        },
        "id": "2sqrPBPV820P",
        "outputId": "878ff6be-5405-4dd9-8a4e-74dc216d5b22"
      },
      "execution_count": 16,
      "outputs": [
        {
          "output_type": "stream",
          "name": "stdout",
          "text": [
            "{'c', 'a', 'b'}\n"
          ]
        }
      ]
    },
    {
      "cell_type": "code",
      "source": [
        "# Q17: Write a code to clear all elements from the set {1, 2, 3, 4, 5}\n",
        "s = {1, 2, 3, 4, 5}\n",
        "s.clear()\n",
        "print(s)\n"
      ],
      "metadata": {
        "colab": {
          "base_uri": "https://localhost:8080/"
        },
        "id": "SLAduYwS-nxV",
        "outputId": "bcaf835a-2cc1-47b6-f3fe-1e12af1cd133"
      },
      "execution_count": 17,
      "outputs": [
        {
          "output_type": "stream",
          "name": "stdout",
          "text": [
            "set()\n"
          ]
        }
      ]
    },
    {
      "cell_type": "code",
      "source": [
        "# Q18: Write a code to remove the element 4 from the set {1, 2, 3, 4}\n",
        "s = {1, 2, 3, 4}\n",
        "s.remove(4)\n",
        "print(s)\n"
      ],
      "metadata": {
        "colab": {
          "base_uri": "https://localhost:8080/"
        },
        "id": "uiIio9qT82x5",
        "outputId": "ae101b91-9654-4bd7-80ff-baf2dd2ddea7"
      },
      "execution_count": 18,
      "outputs": [
        {
          "output_type": "stream",
          "name": "stdout",
          "text": [
            "{1, 2, 3}\n"
          ]
        }
      ]
    },
    {
      "cell_type": "code",
      "source": [
        "# Q19: Write a code to find the union of two sets {1, 2, 3} and {3, 4, 5}\n",
        "a = {1, 2, 3}\n",
        "b = {3, 4, 5}\n",
        "print(a.union(b))\n"
      ],
      "metadata": {
        "colab": {
          "base_uri": "https://localhost:8080/"
        },
        "id": "C1bQxnDM82vO",
        "outputId": "728f62d7-aaba-46b8-bbbd-a17a6a5cc2dd"
      },
      "execution_count": 19,
      "outputs": [
        {
          "output_type": "stream",
          "name": "stdout",
          "text": [
            "{1, 2, 3, 4, 5}\n"
          ]
        }
      ]
    },
    {
      "cell_type": "code",
      "source": [
        "# Q20: Write a code to find the intersection of two sets {1, 2, 3} and {2, 3, 4}\n",
        "a = {1, 2, 3}\n",
        "b = {2, 3, 4}\n",
        "print(a.intersection(b))\n"
      ],
      "metadata": {
        "colab": {
          "base_uri": "https://localhost:8080/"
        },
        "id": "qJwI7uFR82s1",
        "outputId": "f4c217a4-72d8-4e8a-bd1b-5f0f9647368b"
      },
      "execution_count": 20,
      "outputs": [
        {
          "output_type": "stream",
          "name": "stdout",
          "text": [
            "{2, 3}\n"
          ]
        }
      ]
    },
    {
      "cell_type": "code",
      "source": [
        "# Q21: Write a code to create a dictionary with the keys \"name\", \"age\", and \"city\", and print it\n",
        "person = {\"name\": \"John\", \"age\": 25, \"city\": \"New York\"}\n",
        "print(person)\n"
      ],
      "metadata": {
        "colab": {
          "base_uri": "https://localhost:8080/"
        },
        "id": "shwhC3FM82qN",
        "outputId": "093411dd-b9c2-484c-993f-465de56dfe41"
      },
      "execution_count": 21,
      "outputs": [
        {
          "output_type": "stream",
          "name": "stdout",
          "text": [
            "{'name': 'John', 'age': 25, 'city': 'New York'}\n"
          ]
        }
      ]
    },
    {
      "cell_type": "code",
      "source": [
        "# Q22: Write a code to add a new key-value pair \"country\": \"USA\" to the dictionary {'name': 'John', 'age': 25}\n",
        "person = {'name': 'John', 'age': 25}\n",
        "person['country'] = 'USA'\n",
        "print(person)\n"
      ],
      "metadata": {
        "colab": {
          "base_uri": "https://localhost:8080/"
        },
        "id": "PZFPCGUa82nm",
        "outputId": "990d322c-52b8-42cd-f23c-deb0dcc3038b"
      },
      "execution_count": 22,
      "outputs": [
        {
          "output_type": "stream",
          "name": "stdout",
          "text": [
            "{'name': 'John', 'age': 25, 'country': 'USA'}\n"
          ]
        }
      ]
    },
    {
      "cell_type": "code",
      "execution_count": 23,
      "metadata": {
        "colab": {
          "base_uri": "https://localhost:8080/"
        },
        "id": "1yYlSUyk8Bs0",
        "outputId": "94317982-1043-4653-b10f-e852a14d7f00"
      },
      "outputs": [
        {
          "output_type": "stream",
          "name": "stdout",
          "text": [
            "Alice\n"
          ]
        }
      ],
      "source": [
        "# Q23: Write a code to access the value associated with the key \"name\" in the dictionary {'name': 'Alice', 'age': 30}\n",
        "person = {'name': 'Alice', 'age': 30}\n",
        "print(person['name'])\n"
      ]
    },
    {
      "cell_type": "code",
      "source": [
        "# Q24: Write a code to remove the key \"age\" from the dictionary {'name': 'Bob', 'age': 22, 'city': 'New York'}\n",
        "person = {'name': 'Bob', 'age': 22, 'city': 'New York'}\n",
        "del person['age']\n",
        "print(person)\n"
      ],
      "metadata": {
        "colab": {
          "base_uri": "https://localhost:8080/"
        },
        "id": "Q_KZlahH-rCg",
        "outputId": "2bccd123-2da5-48dc-dec6-365cbea28050"
      },
      "execution_count": 24,
      "outputs": [
        {
          "output_type": "stream",
          "name": "stdout",
          "text": [
            "{'name': 'Bob', 'city': 'New York'}\n"
          ]
        }
      ]
    },
    {
      "cell_type": "code",
      "source": [
        "# Q25: Write a code to check if the key \"city\" exists in the dictionary {'name': 'Alice', 'city': 'Paris'}\n",
        "person = {'name': 'Alice', 'city': 'Paris'}\n",
        "print(\"city\" in person)\n"
      ],
      "metadata": {
        "colab": {
          "base_uri": "https://localhost:8080/"
        },
        "id": "-qV8ziU3-rAG",
        "outputId": "90769acf-776f-4bd7-ac51-34c01f71eee8"
      },
      "execution_count": 25,
      "outputs": [
        {
          "output_type": "stream",
          "name": "stdout",
          "text": [
            "True\n"
          ]
        }
      ]
    },
    {
      "cell_type": "code",
      "source": [
        "# Q26: Write a code to create a list, a tuple, and a dictionary, and print them all\n",
        "lst = [1, 2, 3]\n",
        "t = (4, 5, 6)\n",
        "d = {\"a\": 1, \"b\": 2}\n",
        "print(lst, t, d)\n"
      ],
      "metadata": {
        "colab": {
          "base_uri": "https://localhost:8080/"
        },
        "id": "EPmHMktE-q9n",
        "outputId": "6b8ba9c6-25ec-4125-d458-d0456afd3367"
      },
      "execution_count": 26,
      "outputs": [
        {
          "output_type": "stream",
          "name": "stdout",
          "text": [
            "[1, 2, 3] (4, 5, 6) {'a': 1, 'b': 2}\n"
          ]
        }
      ]
    },
    {
      "cell_type": "code",
      "source": [
        "# Q27: Write a code to create a list of 5 random numbers between 1 and 100, sort it in ascending order, and print the result\n",
        "import random\n",
        "lst = random.sample(range(1, 101), 5)\n",
        "lst.sort()\n",
        "print(lst)\n"
      ],
      "metadata": {
        "colab": {
          "base_uri": "https://localhost:8080/"
        },
        "id": "ZxtYKxBv-q7E",
        "outputId": "0951f962-58e4-4672-ace6-d13f591f73b7"
      },
      "execution_count": 27,
      "outputs": [
        {
          "output_type": "stream",
          "name": "stdout",
          "text": [
            "[16, 45, 66, 70, 88]\n"
          ]
        }
      ]
    },
    {
      "cell_type": "code",
      "source": [
        "# Q28: Write a code to create a list with strings and print the element at the third index\n",
        "words = [\"apple\", \"banana\", \"cherry\", \"date\", \"fig\"]\n",
        "print(words[3])\n"
      ],
      "metadata": {
        "colab": {
          "base_uri": "https://localhost:8080/"
        },
        "id": "MbQhgzr9-q4e",
        "outputId": "d03bd689-cb4e-4df6-f708-6c8f2ddfe60d"
      },
      "execution_count": 28,
      "outputs": [
        {
          "output_type": "stream",
          "name": "stdout",
          "text": [
            "date\n"
          ]
        }
      ]
    },
    {
      "cell_type": "code",
      "source": [
        "# Q29: Write a code to combine two dictionaries into one and print the result\n",
        "d1 = {\"a\": 1, \"b\": 2}\n",
        "d2 = {\"c\": 3, \"d\": 4}\n",
        "d1.update(d2)\n",
        "print(d1)\n"
      ],
      "metadata": {
        "colab": {
          "base_uri": "https://localhost:8080/"
        },
        "id": "Q0rJl0oB-q1w",
        "outputId": "16288c5f-948c-4ab4-8cfd-6942b09989cc"
      },
      "execution_count": 29,
      "outputs": [
        {
          "output_type": "stream",
          "name": "stdout",
          "text": [
            "{'a': 1, 'b': 2, 'c': 3, 'd': 4}\n"
          ]
        }
      ]
    },
    {
      "cell_type": "code",
      "source": [
        "# Q30: Write a code to convert a list of strings into a set\n",
        "lst = [\"apple\", \"banana\", \"apple\", \"cherry\"]\n",
        "s = set(lst)\n",
        "print(s)\n"
      ],
      "metadata": {
        "colab": {
          "base_uri": "https://localhost:8080/"
        },
        "id": "bUACE5Da-qzT",
        "outputId": "5e5fb7e3-2da6-44c8-edd4-6a5e12480019"
      },
      "execution_count": 30,
      "outputs": [
        {
          "output_type": "stream",
          "name": "stdout",
          "text": [
            "{'apple', 'cherry', 'banana'}\n"
          ]
        }
      ]
    },
    {
      "cell_type": "code",
      "source": [],
      "metadata": {
        "id": "lUY4tDiQ-qwv"
      },
      "execution_count": 30,
      "outputs": []
    },
    {
      "cell_type": "code",
      "source": [],
      "metadata": {
        "id": "8WecEmIN-quQ"
      },
      "execution_count": 30,
      "outputs": []
    },
    {
      "cell_type": "code",
      "source": [],
      "metadata": {
        "id": "V6XAlHNJ-qrt"
      },
      "execution_count": 30,
      "outputs": []
    },
    {
      "cell_type": "code",
      "source": [],
      "metadata": {
        "id": "0MGC6E2g-qpP"
      },
      "execution_count": 30,
      "outputs": []
    },
    {
      "cell_type": "code",
      "source": [],
      "metadata": {
        "id": "NCmI3Lhq-qmc"
      },
      "execution_count": 30,
      "outputs": []
    },
    {
      "cell_type": "code",
      "source": [],
      "metadata": {
        "id": "7fB5qmb5-qkV"
      },
      "execution_count": 30,
      "outputs": []
    }
  ]
}